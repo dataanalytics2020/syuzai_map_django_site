{
 "cells": [
  {
   "cell_type": "code",
   "execution_count": 11,
   "metadata": {},
   "outputs": [
    {
     "name": "stderr",
     "output_type": "stream",
     "text": [
      "C:\\Users\\tsc95\\AppData\\Local\\Temp\\ipykernel_5436\\225986525.py:26: MovedIn20Warning: The ``declarative_base()`` function is now available as sqlalchemy.orm.declarative_base(). (deprecated since: 2.0) (Background on SQLAlchemy 2.0 at: https://sqlalche.me/e/b8d9)\n",
      "  Base = declarative_base()\n"
     ]
    }
   ],
   "source": [
    "# -*- encoding:utf-8 -*-\n",
    "\n",
    "from sqlalchemy import (Column, String, Text, ForeignKey, \\\n",
    "                create_engine, MetaData, DECIMAL, DATETIME, exc, event, Index)\n",
    "from sqlalchemy.schema import UniqueConstraint\n",
    "from sqlalchemy.orm import (sessionmaker, relationship, scoped_session)\n",
    "from sqlalchemy.ext.declarative import declarative_base\n",
    "from sqlalchemy.dialects.mysql import INTEGER as Integer\n",
    "from datetime import datetime\n",
    "\n",
    "import os\n",
    "\n",
    "username = os.getenv('DB_USER_NAME')\n",
    "password=os.getenv('DB_PASSWORD')\n",
    "host=os.getenv('DB_HOST')\n",
    "port='3306'\n",
    "database=os.getenv('DB_NAME')\n",
    "db_url = f\"mysql+mysqlconnector://{username}:{password}@{host}:{port}/{database}\"\n",
    "\n",
    "# DB接続するためのEngineインスタンス\n",
    "engine = create_engine(db_url, echo=False)\n",
    "\n",
    "Session = scoped_session(sessionmaker(autocommit=False, autoflush=False, bind=engine))\n",
    "\n",
    "metadata = MetaData()\n",
    "Base = declarative_base()\n",
    "\n",
    "\n",
    "# class Person(Base):\n",
    "#     __tablename__ = 'person'\n",
    "#     __table_args__ = {'mysql_engine': 'InnoDB'}\n",
    "#     id = Column('id', Integer(unsigned=True), primary_key=True, autoincrement=True)\n",
    "#     name = Column('name', String(255), index=True, unique=True)\n",
    "#     age = Column('age', Integer)\n",
    "#     created = Column('created', DATETIME, default=datetime.now, nullable=False)\n",
    "#     modified = Column('modified', DATETIME, default=datetime.now, nullable=False)\n",
    "#     address = relationship('Address')\n",
    "\n",
    "#     def __init__(self, name, age):\n",
    "#         self.name = name\n",
    "#         self.age = age\n",
    "#         now = datetime.now()\n",
    "#         self.created = now\n",
    "#         self.modified = now\n",
    "\n",
    "\n",
    "# class Address(Base):\n",
    "#     __tablename__ = 'address'\n",
    "#     __table_args__ = (\n",
    "#             (UniqueConstraint('personid', 'address', name='unique_idx_personid_address')),\n",
    "#             {'mysql_engine': 'InnoDB'})\n",
    "#     id = Column('id', Integer, primary_key=True, autoincrement=True)\n",
    "#     personid = Column('personid', Integer(unsigned=True), ForeignKey('person.id',\n",
    "#         onupdate='CASCADE', ondelete='CASCADE'))\n",
    "#     address = Column('address', String(255), nullable=False)\n",
    "#     created = Column('created', DATETIME, default=datetime.now, nullable=False)\n",
    "#     modified = Column('modified', DATETIME, default=datetime.now, nullable=False)\n",
    "\n",
    "#     def __init__(self, personid, address):\n",
    "#         self.personid = personid\n",
    "#         self.address = address\n",
    "#         now = datetime.now()\n",
    "#         self.created = now\n",
    "#         self.modified = now\n",
    "\n"
   ]
  },
  {
   "cell_type": "code",
   "execution_count": null,
   "metadata": {},
   "outputs": [],
   "source": [
    "if __name__ == \"__main__\":\n",
    "    # create table\n",
    "    Base.metadata.create_all(engine)"
   ]
  },
  {
   "cell_type": "code",
   "execution_count": 3,
   "metadata": {},
   "outputs": [],
   "source": [
    "from sqlalchemy import *\n",
    "from sqlalchemy.orm import *\n",
    "#from sqlalchemy.ext.declarative import declarative_base\n",
    "import os\n",
    "\n",
    "username = os.getenv('DB_USER_NAME')\n",
    "password=os.getenv('DB_PASSWORD')\n",
    "host=os.getenv('DB_HOST')\n",
    "port='3306'\n",
    "database=os.getenv('DB_NAME')\n",
    "db_url = f\"mysql+mysqlconnector://{username}:{password}@{host}:{port}/{database}\"\n",
    "\n",
    "# DB接続するためのEngineインスタンス\n",
    "engine = create_engine(db_url, echo=False)\n",
    "\n",
    "# DBに対してORM操作するときに利用\n",
    "# Sessionを通じて操作を行う\n",
    "# session = scoped_session(\n",
    "#     sessionmaker(autocommit=True, autoflush=True, bind=ENGINE)\n",
    "# )\n",
    "\n",
    "# 各modelで利用\n",
    "# classとDBをMapping\n",
    "\n"
   ]
  },
  {
   "cell_type": "code",
   "execution_count": 4,
   "metadata": {},
   "outputs": [],
   "source": [
    "from sqlalchemy import Column, Integer, create_engine, MetaData, DATETIME, String\n",
    "from sqlalchemy.ext.declarative import declarative_base\n",
    "from sqlalchemy.orm import sessionmaker\n",
    "from datetime import datetime\n",
    "from pathlib import Path\n",
    "import os\n"
   ]
  },
  {
   "cell_type": "code",
   "execution_count": 7,
   "metadata": {},
   "outputs": [
    {
     "data": {
      "text/plain": [
       "datetime.datetime(2023, 3, 14, 3, 58, 8, 115376)"
      ]
     },
     "execution_count": 7,
     "metadata": {},
     "output_type": "execute_result"
    }
   ],
   "source": [
    "datetime.datetime.now()"
   ]
  },
  {
   "cell_type": "code",
   "execution_count": 9,
   "metadata": {},
   "outputs": [
    {
     "name": "stderr",
     "output_type": "stream",
     "text": [
      "C:\\Users\\tsc95\\AppData\\Local\\Temp\\ipykernel_34980\\3423010047.py:4: MovedIn20Warning: The ``declarative_base()`` function is now available as sqlalchemy.orm.declarative_base(). (deprecated since: 2.0) (Background on SQLAlchemy 2.0 at: https://sqlalche.me/e/b8d9)\n",
      "  Base = declarative_base()\n"
     ]
    }
   ],
   "source": [
    "# テーブルの設定\n",
    "metadata = MetaData()\n",
    "\n",
    "Base = declarative_base()\n",
    "import datetime \n",
    "class User(Base):\n",
    "    __tablename__ = \"user\"\n",
    "    __table_args__ = {\"mysql_engine\": \"InnoDB\"}\n",
    "\n",
    "    id = Column(\"id\", Integer, primary_key=True, autoincrement=True)\n",
    "    name = Column(\"name\", String(255))\n",
    "    created = Column(\"created\", DATETIME, default=datetime.datetime.now, nullable=False)\n",
    "    modified = Column(\"modified\", DATETIME, default=datetime.datetime.now, nullable=False)\n",
    "    def __init__(self, name):\n",
    "        self.name = name\n",
    "        now = datetime.datetime.now()\n",
    "        self.created = now\n",
    "        self.modified = now\n",
    "\n",
    "# テーブルの作成\n",
    "Base.metadata.create_all(engine)"
   ]
  },
  {
   "cell_type": "code",
   "execution_count": 4,
   "metadata": {},
   "outputs": [],
   "source": [
    "from sqlalchemy import *\n",
    "from sqlalchemy.orm import declarative_base\n",
    "\n",
    "Base = declarative_base()"
   ]
  },
  {
   "cell_type": "code",
   "execution_count": 5,
   "metadata": {},
   "outputs": [],
   "source": [
    "from sqlalchemy.orm import sessionmaker\n",
    "SessionClass = sessionmaker(engine)  # セッションを作るクラスを作成\n",
    "session = SessionClass()"
   ]
  },
  {
   "cell_type": "code",
   "execution_count": 10,
   "metadata": {},
   "outputs": [],
   "source": [
    "class Schedule(Base):\n",
    "    __tablename__ = \"schedule\"  # テーブル名を指定\n",
    "    schedule_id = Column(Integer, primary_key=True, autoincrement=True)\n",
    "    prefecture = Column(String(255))\n",
    "    coverage_date = Column(Date)\n",
    "    day_of_week = Column(String(1))\n",
    "    parlor_name = Column(String(255))\n",
    "    coverage_name = Column(String(255))\n",
    "    medium_name = Column(String(255))\n",
    "    schedule_rank = Column(String(1))\n",
    "\n",
    "    def record_detail(self):  # フルネームを返すメソッド\n",
    "        return f\"{self.coverage_date} {self.parlor_name} {self.coverage_name} \""
   ]
  },
  {
   "cell_type": "code",
   "execution_count": 11,
   "metadata": {},
   "outputs": [],
   "source": [
    "Base.metadata.create_all(bind=engine)"
   ]
  },
  {
   "cell_type": "code",
   "execution_count": null,
   "metadata": {},
   "outputs": [],
   "source": [
    "0,石川県,2023-03-14,火,クァトロブーム金沢,chiiips取材,ChiiiPS(チップス),・"
   ]
  },
  {
   "cell_type": "code",
   "execution_count": null,
   "metadata": {},
   "outputs": [],
   "source": [
    "CREATE TABLE mysql_database.schedule (\n",
    "\tid INTEGER NULL,\n",
    "\t都道府県 VARCHAR(5) NULL,\n",
    "\t日付 DATE NULL,\n",
    "\t曜日 VARCHAR(1) NULL,\n",
    "\t店舗名 VARCHAR(50) NULL,\n",
    "\t取材名 VARCHAR(150) NULL,\n",
    "\t媒体名 VARCHAR(50) NULL,\n",
    "\tランク VARCHAR(1) NULL\n",
    ")\n",
    "ENGINE=InnoDB\n",
    "DEFAULT CHARSET=utf8mb4\n",
    "COLLATE=utf8mb4_0900_ai_ci;\n"
   ]
  }
 ],
 "metadata": {
  "kernelspec": {
   "display_name": "venv",
   "language": "python",
   "name": "python3"
  },
  "language_info": {
   "codemirror_mode": {
    "name": "ipython",
    "version": 3
   },
   "file_extension": ".py",
   "mimetype": "text/x-python",
   "name": "python",
   "nbconvert_exporter": "python",
   "pygments_lexer": "ipython3",
   "version": "3.9.13"
  },
  "orig_nbformat": 4
 },
 "nbformat": 4,
 "nbformat_minor": 2
}
